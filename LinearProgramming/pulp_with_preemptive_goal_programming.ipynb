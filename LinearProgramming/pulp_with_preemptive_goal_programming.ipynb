{
 "cells": [
  {
   "cell_type": "markdown",
   "metadata": {},
   "source": [
    "## Needed package"
   ]
  },
  {
   "cell_type": "code",
   "execution_count": 1,
   "metadata": {},
   "outputs": [],
   "source": [
    "from pulp import *\n",
    "import pandas as pd\n",
    "import numpy as np\n",
    "from datetime import datetime\n",
    "import concurrent.futures\n",
    "from tqdm import tqdm\n",
    "from loguru import logger"
   ]
  },
  {
   "cell_type": "markdown",
   "metadata": {},
   "source": [
    "## Functions\n",
    "\n",
    "* CustomizedLog: record log\n",
    "* GetConstraintInfo:\n",
    "    * make relationship of demand and bom dictionary\n",
    "    * use the relationship to generate constraints\n",
    "* generate_LP_results: have result of preemptive goal programming into dataframe"
   ]
  },
  {
   "cell_type": "code",
   "execution_count": 2,
   "metadata": {},
   "outputs": [],
   "source": [
    "def CustomizedLog(file_log='./log/file.log'):  # add: log folder\n",
    "    logger.add(file_log,\n",
    "               format=\"{time:YYYY-MM-DD HH:mm:ss|\\\n",
    "                       [{level}]|{file}|\\\n",
    "                       {function}()-[{line}]|\\\n",
    "                       {message}}\",\n",
    "                retention=\"10 days\",\n",
    "                encoding=\"utf-8\",\n",
    "                level=\"INFO\")\n",
    "    return logger"
   ]
  },
  {
   "cell_type": "code",
   "execution_count": 3,
   "metadata": {},
   "outputs": [],
   "source": [
    "#### functions\n",
    "class GetConstraintInfo:\n",
    "    def __init__(self, dem_df, bom_df, con_df, top_col, down_col):\n",
    "        self.dem_df = dem_df\n",
    "        self.bom_df = bom_df\n",
    "        self.con_df = con_df\n",
    "        self.top_col = top_col\n",
    "        self.down_col = down_col\n",
    "    \n",
    "    def output_bom(self, key, group):\n",
    "        bom_sub = dict()\n",
    "        group = pd.merge(group, self.dem_df, on=self.top_col, how='inner')\n",
    "        bom_sub[key] = group.set_index(self.top_col)['EXTENDED_QUANTITY'].to_dict()\n",
    "        return bom_sub\n",
    "\n",
    "    def get_bom_dict(self):\n",
    "        #### known variables\n",
    "        bom = {}\n",
    "        with concurrent.futures.ProcessPoolExecutor(max_workers=4) as executor:\n",
    "            futures = [executor.submit(self.output_bom, key, group) for key, group in self.bom_df.groupby(self.down_col)]\n",
    "            for fut in tqdm(concurrent.futures.as_completed(futures)):\n",
    "                bom.update(fut.result()) # result() 若 function 僅回傳一種值則不需要索引\n",
    "        return bom\n",
    "\n",
    "    def get_constraints_dict(self):\n",
    "        model = LpProblem(\"Max-Shipment-Problem\", LpMaximize)\n",
    "        bom_dict = self.get_bom_dict()\n",
    "        for down in self.con_df[self.down_col].values:\n",
    "            main_func = [- bom_dict[down][up]*self.dem_df[self.dem_df[self.top_col]==up]['DEMAND_QTY'].values[0]*z[up] for up, _ in bom_dict[down].items()]\n",
    "            main_func += [self.con_df[self.con_df[self.down_col]==down]['ASSIGNABLE_AMOUNT'].values[0]]\n",
    "            model += lpSum(main_func) >= 0\n",
    "        constraints_dict = model.constraints\n",
    "        return constraints_dict\n",
    "\n",
    "def generate_LP_results(z):\n",
    "    output = []\n",
    "    for i in z:\n",
    "        var_output = {\n",
    "            'TOP_SKU':i,\n",
    "            'ontime_shipment':z[i].varValue\n",
    "        }\n",
    "        output.append(var_output)\n",
    "    output_df = pd.DataFrame.from_records(output)\n",
    "    return output_df"
   ]
  },
  {
   "cell_type": "markdown",
   "metadata": {},
   "source": [
    "## Data Definition:\n",
    "For example:\n",
    "* dem_df: \n",
    "    * 90-A is composed of one Comp1 and one Comp2\n",
    "    * the amount of order of 90-A is 1000 \n",
    "* bom_df:\n",
    "    * 90-A is composed of one Comp1 and one Comp2\n",
    "* con_df:\n",
    "    * the assignable amount of Comp1 is 2200\n",
    "    * after calculating, the amount of Comp1 in demand is 3700"
   ]
  },
  {
   "cell_type": "code",
   "execution_count": 4,
   "metadata": {
    "scrolled": true
   },
   "outputs": [
    {
     "name": "stdout",
     "output_type": "stream",
     "text": [
      "\u001b[91mdem_df:\u001b[0m\n",
      "  TOP_SKU  DEMAND_QTY  PRIORITY  Comp1  Comp2  Comp3\n",
      "0    90-A        1000         1      1      1      0\n",
      "1    90-B         700         1      1      1      1\n",
      "2    90-C         500         2      0      1      0\n",
      "3    90-D         300         2      1      0      0\n",
      "4    90-E         900         3      1      0      0\n",
      "5    90-F         800         3      1      0      1\n",
      "\u001b[91mbom_df:\u001b[0m\n",
      "  TOP_SKU COMPONENT_ITEM  EXTENDED_QUANTITY\n",
      "0    90-A          Comp1                  1\n",
      "1    90-B          Comp1                  1\n",
      "2    90-D          Comp1                  1\n",
      "3    90-E          Comp1                  1\n",
      "4    90-F          Comp1                  1\n",
      "5    90-A          Comp2                  1\n",
      "6    90-B          Comp2                  1\n",
      "7    90-C          Comp2                  1\n",
      "8    90-B          Comp3                  1\n",
      "9    90-F          Comp3                  1\n",
      "\u001b[91mcon_df:\u001b[0m\n",
      "  COMPONENT_ITEM  DEMAND_AMOUNT  ASSIGNABLE_AMOUNT\n",
      "0          Comp1           3700               2200\n",
      "1          Comp2           2200               1600\n",
      "2          Comp3           1500                800\n"
     ]
    }
   ],
   "source": [
    "logger = CustomizedLog()\n",
    "\n",
    "CRED = '\\033[91m'\n",
    "CEND = '\\033[0m'\n",
    "\n",
    "file_name = 'pulp_pgp_example'\n",
    "all_df = pd.read_excel(f'./Data/{file_name}.xlsx', sheet_name=None)\n",
    "dem_df = all_df['demand']\n",
    "bom_df = all_df['bom']\n",
    "con_df = all_df['constraint']\n",
    "\n",
    "print(CRED+'dem_df:'+CEND, dem_df, sep='\\n')\n",
    "print(CRED+'bom_df:'+CEND, bom_df, sep='\\n')\n",
    "print(CRED+'con_df:'+CEND, con_df, sep='\\n')"
   ]
  },
  {
   "cell_type": "markdown",
   "metadata": {},
   "source": [
    "## Preemptive goal programming:\n",
    "1. Considering the priority of demand, which means priority=1 should be shipped first if possible.\n",
    "2. Set $Z_{TOP\\:SKU}$ is binary unknwon variable. \n",
    "      \n",
    "    $$\n",
    "    Z_{TOP\\:SKU}\n",
    "    \\left\\{\n",
    "    \\begin{align} \n",
    "    &=1,& able\\:to\\:be\\:shipped  \\\\\n",
    "    &=0,& unable\\:to\\:be\\:shipped  \n",
    "    \\end{align}\n",
    "    \\right.\n",
    "    $$\n",
    "      \n",
    "3. Objective function: the larger timely shipment, the better  \n",
    "      \n",
    "    $$\\max\\sum_{all\\:TOP\\:SKU}DEMAND_{TOP\\:SKU}*Z_{TOP\\:SKU}$$\n",
    "      \n",
    "4. Constraints: the assignable amount is the ceiling of timely shipment  \n",
    "      \n",
    "    $$\n",
    "    AMOUNT_{COMPONENT\\:ITEM}\n",
    "    -\\sum_{all\\:TOP\\:SKU\\:using\\:COMPONENT\\:ITEM}\n",
    "    BOM_{\\left(COMPONENT\\:ITEM, TOP\\:SKU\\right)}DEMAND_{TOP\\:SKU}*Z_{TOP\\:SKU}\\ge0\n",
    "    $$\n",
    "      \n",
    "5. Reference:\n",
    "    * [Preemptive Goal Programming](https://www.riverware.org/PDF/RiverWare/documentation/80_prerelease/index.html#page/Optimization/OptimMath.3.1.html)\n",
    "    * [pulp example of considering priority](https://www.supplychaindataanalytics.com/multi-objective-linear-optimization-with-pulp-in-python/)"
   ]
  },
  {
   "cell_type": "code",
   "execution_count": 5,
   "metadata": {},
   "outputs": [
    {
     "name": "stderr",
     "output_type": "stream",
     "text": [
      "3it [00:00, 163.64it/s]\n",
      "2021-10-07 16:02:41.626 | INFO     | __main__:<module>:15 - priority=1\n",
      "2021-10-07 16:02:41.648 | INFO     | __main__:<module>:15 - priority=2\n",
      "2021-10-07 16:02:41.670 | INFO     | __main__:<module>:15 - priority=3\n"
     ]
    }
   ],
   "source": [
    "#### create all unknown variables\n",
    "f_sku = dem_df.TOP_SKU.unique()\n",
    "z = LpVariable.dicts(\"z\",\n",
    "                    (sku for sku in f_sku),\n",
    "                     lowBound = 0,\n",
    "                     upBound = 1,\n",
    "                     cat = 'Integer')\n",
    "\n",
    "#### get all needed material before solving model\n",
    "priority_lst = list(np.sort(dem_df.PRIORITY.unique()))\n",
    "constraints_dict = GetConstraintInfo(dem_df, bom_df, con_df, 'TOP_SKU', 'COMPONENT_ITEM').get_constraints_dict()\n",
    "\n",
    "#### create objective function\n",
    "for i in priority_lst:\n",
    "    logger.info(f'priority={i}')\n",
    "    model = LpProblem(\"Max-Shipment-Problem\", LpMaximize)\n",
    "    for k, v in constraints_dict.items(): model += v\n",
    "    f_sku = dem_df[dem_df.PRIORITY==i]['TOP_SKU']\n",
    "    lst = [z[up]*dem_df[dem_df['TOP_SKU']==up]['DEMAND_QTY'].values[0] for up in f_sku]\n",
    "    model += lpSum(lst)\n",
    "    model.solve()\n",
    "    assert LpStatus[model.status] == 'Optimal'\n",
    "    if priority_lst.index(i)<(len(priority_lst)-1):\n",
    "        model += lpSum([model.objective]) >= model.objective.value()\n",
    "        constraints_dict = model.constraints"
   ]
  },
  {
   "cell_type": "markdown",
   "metadata": {},
   "source": [
    "## Result\n",
    "Focus on column: ontime_shipment  \n",
    "The dataframe means:\n",
    "1. 90-A, 90-C, 90-D, 90-E can be shipped on time.\n",
    "2. 90-B, 90-F can't be shipped on time because of assignable limitation amount."
   ]
  },
  {
   "cell_type": "code",
   "execution_count": 6,
   "metadata": {},
   "outputs": [
    {
     "name": "stdout",
     "output_type": "stream",
     "text": [
      "\u001b[91morder ontime result:\u001b[0m\n",
      "  TOP_SKU  DEMAND_QTY  PRIORITY  Comp1  Comp2  Comp3  ontime_shipment\n",
      "0    90-A        1000         1      1      1      0              1.0\n",
      "1    90-B         700         1      1      1      1              0.0\n",
      "2    90-C         500         2      0      1      0              1.0\n",
      "3    90-D         300         2      1      0      0              1.0\n",
      "4    90-E         900         3      1      0      0              1.0\n",
      "5    90-F         800         3      1      0      1              0.0\n"
     ]
    }
   ],
   "source": [
    "output_df = generate_LP_results(z)\n",
    "dem_df = pd.merge(dem_df, output_df, on='TOP_SKU', how='left')\n",
    "dem_df.ontime_shipment = dem_df.ontime_shipment.fillna(0)\n",
    "print(CRED+'order ontime result:'+CEND, dem_df, sep='\\n')"
   ]
  }
 ],
 "metadata": {
  "kernelspec": {
   "display_name": "Python 3",
   "language": "python",
   "name": "python3"
  },
  "language_info": {
   "codemirror_mode": {
    "name": "ipython",
    "version": 3
   },
   "file_extension": ".py",
   "mimetype": "text/x-python",
   "name": "python",
   "nbconvert_exporter": "python",
   "pygments_lexer": "ipython3",
   "version": "3.6.9"
  }
 },
 "nbformat": 4,
 "nbformat_minor": 4
}
