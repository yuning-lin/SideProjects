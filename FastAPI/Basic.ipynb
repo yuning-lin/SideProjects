{
 "cells": [
  {
   "cell_type": "markdown",
   "id": "bbdd9c44",
   "metadata": {},
   "source": [
    "## 名詞定義\n",
    "\n",
    "* path operation decorator: `@app`\n",
    "* operation: `get`\n",
    "* path: `'/'`\n",
    "* path operation function: `def abc():return {'data':'health tracking'}`\n",
    "    * function 任意命名皆可"
   ]
  },
  {
   "cell_type": "code",
   "execution_count": 3,
   "id": "b98c249c",
   "metadata": {},
   "outputs": [],
   "source": [
    "from fastapi import FastAPI\n",
    "\n",
    "app = FastAPI()\n",
    "\n",
    "@app.get('/')\n",
    "def abc():\n",
    "    return {'data':'health tracking'}"
   ]
  },
  {
   "cell_type": "markdown",
   "id": "72373ffa",
   "metadata": {},
   "source": [
    "## Dynamic Routing\n",
    "* path 帶入 {變數名}\n",
    "* 指定變數型態:\n",
    "    * 將 function 帶入變數的型態\n",
    "    * 可以是 str, int... 等\n",
    "    * 變數可以用 `＝` 設置預設值\n",
    "    * 利用套件 `typing` 可以讓 path 指定變數可以不用一定要輸入\n",
    "    * 利用套件 `pydantic` 可以指定更多變數型態\n",
    "* path 帶入 app 的順序\n",
    "    * 下面例子顯示兩種 notice 的位置\n",
    "    * 當 dynamic routing 已經先定義在 report 後接的是 int，再加入 path='/report/notice' 則違反指定型態\n",
    "    * 但 notice function 先於 show、summary function 就可以成功運行\n",
    "    * 若在網址輸入 `http://127.0.0.1:8000/report/a` 則會出現錯誤"
   ]
  },
  {
   "cell_type": "code",
   "execution_count": 3,
   "id": "0bae2549",
   "metadata": {},
   "outputs": [],
   "source": [
    "from fastapi import FastAPI\n",
    "\n",
    "app = FastAPI()\n",
    "\n",
    "\n",
    "@app.get('/')\n",
    "def index():\n",
    "    return {'data':{'index'}}\n",
    "\n",
    "@app.get('/report/notice') ## right\n",
    "def notice():\n",
    "    return {'data':{'some notice'}}\n",
    "\n",
    "@app.get('/report/{uid}')\n",
    "def show(uid:int):\n",
    "    # fetch report with uid\n",
    "    return {'data':uid}\n",
    "\n",
    "@app.get('/report/{uid}/summary')\n",
    "def summary(uid:int):\n",
    "    # fetch report with uid's summary\n",
    "    return {'data':{'summary1','summary2'}}\n",
    "\n",
    "# @app.get('/report/notice') ## wrong\n",
    "# def notice():\n",
    "#     return {'data':{'some notice'}}"
   ]
  },
  {
   "cell_type": "code",
   "execution_count": null,
   "id": "9d0e0b24",
   "metadata": {},
   "outputs": [],
   "source": [
    "from fastapi import FastAPI\n",
    "from typing import Optional\n",
    "\n",
    "app = FastAPI()\n",
    "\n",
    "@app.get('/')\n",
    "def index(limit=10, sort:Optional[bool]=None, name:str='GivenName'):\n",
    "    if sort:\n",
    "        return {'data':{'sorted index'}}\n",
    "    else:\n",
    "        return {'data':{'index'}}"
   ]
  },
  {
   "cell_type": "code",
   "execution_count": null,
   "id": "3b7eb4d0",
   "metadata": {},
   "outputs": [],
   "source": [
    "from fastapi import FastAPI\n",
    "from typing import Optional\n",
    "from pydantic import BaseModel\n",
    "\n",
    "app = FastAPI()\n",
    "\n",
    "class Item(BaseModel):\n",
    "    name:str\n",
    "    date:str\n",
    "    systolic_pressure:int\n",
    "    diastolic_pressure:int\n",
    "    heart_beat:int\n",
    "    period:str\n",
    "    degree:Optional[int]\n",
    "\n",
    "\n",
    "@app.post('/')\n",
    "def health_tracking(item: Item):\n",
    "    return {'data':{f\"{item.name}\\'s health tracking data\"}}"
   ]
  },
  {
   "cell_type": "markdown",
   "id": "e223ae6c",
   "metadata": {},
   "source": [
    "## 如何 Debug\n",
    "以下說明以 **Eclipse** 為主，因為 jupyter notebook debug 需引入其他套件  \n",
    "* 使用 `if __name__=='__main__':` 配合下中斷點來執行\n",
    "* 若是有同樣的 port 被執行，需先結束後才可以 debug\n",
    "* 或是指定在別的 port 上執行 debug mode"
   ]
  },
  {
   "cell_type": "code",
   "execution_count": null,
   "id": "32140167",
   "metadata": {},
   "outputs": [],
   "source": [
    "from fastapi import FastAPI\n",
    "from typing import Optional\n",
    "from pydantic import BaseModel\n",
    "import uvicorn\n",
    "\n",
    "app = FastAPI()\n",
    "\n",
    "class Item(BaseModel):\n",
    "    name:str\n",
    "    date:str\n",
    "    systolic_pressure:int\n",
    "    diastolic_pressure:int\n",
    "    heart_beat:int\n",
    "    period:str\n",
    "    degree:Optional[int]\n",
    "\n",
    "@app.post('/')\n",
    "def health_tracking(item: Item):\n",
    "    return {'data':{f\"{item.name}\\'s health tracking data\"}}\n",
    "\n",
    "if __name__=='__main__':\n",
    "    uvicorn.run(app, host='127.0.0.1', port=9000)"
   ]
  },
  {
   "cell_type": "markdown",
   "id": "1099002d",
   "metadata": {},
   "source": [
    "## 下拉式選單（Drop-down menu）\n",
    "* 利用 ENUM 建立選項\n",
    "* 多個選單"
   ]
  },
  {
   "cell_type": "code",
   "execution_count": 6,
   "id": "21fc037f",
   "metadata": {},
   "outputs": [],
   "source": [
    "from enum import Enum\n",
    "from fastapi import FastAPI\n",
    "\n",
    "\n",
    "class ModelName(str, Enum):\n",
    "    CNN = \"CNN\"\n",
    "    DNN = \"DNN\"\n",
    "    RNN = \"RNN\"\n",
    "\n",
    "\n",
    "app = FastAPI()\n",
    "\n",
    "\n",
    "@app.get(\"/models/{model_name}\")\n",
    "async def get_model(model_name: ModelName):\n",
    "    if model_name == ModelName.CNN:\n",
    "        return {\"model_name\": model_name, \"message\": \"CNN is Convolutional Neural Network.\"}\n",
    "\n",
    "    if model_name.value == \"CNN\":\n",
    "        return {\"model_name\": model_name, \"message\": \"DNN is Deep Neural Network.\"}\n",
    "\n",
    "    return {\"model_name\": model_name, \"message\": \"RNN is Recurrent Neural Network.\"}"
   ]
  },
  {
   "cell_type": "code",
   "execution_count": 1,
   "id": "c8d123b0",
   "metadata": {},
   "outputs": [],
   "source": [
    "from enum import Enum\n",
    "from fastapi import FastAPI\n",
    "\n",
    "models_lst = [\"CNN\", \"DNN\", \"RNN\"]\n",
    "packages_lst = [\"Tensor\", \"Keras\", \"Pytorch\"]\n",
    "ModelName = Enum('ModelName', dict(zip(models_lst, models_lst)))\n",
    "Packages = Enum('Paras', dict(zip(packages_lst, packages_lst)))\n",
    "\n",
    "\n",
    "app = FastAPI()\n",
    "\n",
    "\n",
    "@app.get(\"/models/{model_name}/{package}\")\n",
    "async def get_model(model_name: ModelName, package: Packages):\n",
    "    return {\"model_name\": model_name, \"package\": package}"
   ]
  }
 ],
 "metadata": {
  "kernelspec": {
   "display_name": "Python 3",
   "language": "python",
   "name": "python3"
  },
  "language_info": {
   "codemirror_mode": {
    "name": "ipython",
    "version": 3
   },
   "file_extension": ".py",
   "mimetype": "text/x-python",
   "name": "python",
   "nbconvert_exporter": "python",
   "pygments_lexer": "ipython3",
   "version": "3.6.6"
  }
 },
 "nbformat": 4,
 "nbformat_minor": 5
}
