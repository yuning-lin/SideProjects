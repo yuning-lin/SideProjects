{
 "cells": [
  {
   "cell_type": "markdown",
   "id": "b46f1ac3",
   "metadata": {},
   "source": [
    "## 推薦使用\n",
    "* TablePlus：可以添加多種結構化資料庫\n",
    "## 參考資源\n",
    "* [tutorial on sql-databases with fastapi](https://fastapi.tiangolo.com/tutorial/sql-databases/)\n",
    "* [sqlalchemy official site](https://www.sqlalchemy.org/)"
   ]
  },
  {
   "cell_type": "code",
   "execution_count": null,
   "id": "adfa0930",
   "metadata": {},
   "outputs": [],
   "source": []
  }
 ],
 "metadata": {
  "kernelspec": {
   "display_name": "Python 3",
   "language": "python",
   "name": "python3"
  },
  "language_info": {
   "codemirror_mode": {
    "name": "ipython",
    "version": 3
   },
   "file_extension": ".py",
   "mimetype": "text/x-python",
   "name": "python",
   "nbconvert_exporter": "python",
   "pygments_lexer": "ipython3",
   "version": "3.6.6"
  }
 },
 "nbformat": 4,
 "nbformat_minor": 5
}
