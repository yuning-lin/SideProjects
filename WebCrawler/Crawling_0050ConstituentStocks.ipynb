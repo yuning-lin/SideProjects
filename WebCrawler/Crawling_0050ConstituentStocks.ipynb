{
 "cells": [
  {
   "cell_type": "code",
   "execution_count": 1,
   "metadata": {},
   "outputs": [],
   "source": [
    "# 引入套件\n",
    "\n",
    "import requests\n",
    "from bs4 import BeautifulSoup as bs\n",
    "import pandas as pd"
   ]
  },
  {
   "cell_type": "code",
   "execution_count": 7,
   "metadata": {},
   "outputs": [
    {
     "name": "stdout",
     "output_type": "stream",
     "text": [
      "\r\n",
      "\r\n",
      "<!DOCTYPE html PUBLIC \"-//W3C//DTD XHTML 1.0 Transitional//EN\" \"http://www.w3.org/TR/xhtml1/DTD/xhtml1-transitional.dtd\">\r\n",
      "\r\n",
      "\r\n",
      "\r\n",
      "<html xmlns=\"http://www.w3.org/1999/xhtml\" >\r\n",
      "<meta HTTP-EQUIV=\"Con\n"
     ]
    }
   ],
   "source": [
    "# get：直接擷取網站 html \n",
    "# text：以文字的形式印出\n",
    "\n",
    "etf_url = 'https://www.moneydj.com/ETF/X/Basic/Basic0007A.xdjhtm?etfid={}.TW'\n",
    "r = requests.get(etf_url.format('0050'))\n",
    "r.encoding = 'utf-8'\n",
    "print(r.text[:200])"
   ]
  },
  {
   "cell_type": "code",
   "execution_count": 3,
   "metadata": {},
   "outputs": [],
   "source": [
    "'''\n",
    "按 F12 或是右鍵檢視網頁原始碼即可看到網頁 html\n",
    "觀察標籤包裝的資料形式才能進行正確的爬蟲\n",
    "\n",
    "BeautifulSoup：將 html 內容包裝成較好讀取的形式\n",
    "select：. 代表 class、# 代表 id、＞ 代表階層上下\n",
    "'''\n",
    "\n",
    "soup = bs(r.content, \"html.parser\") #soup = bs(r.text, \"lxml\")\n",
    "col_name_lst = [col.text for col in soup.select('#Repeater1 > tr th')]\n",
    "stock_name_lst = [col.text for col in soup.select('.datalist > tr > .col05')] \n",
    "shareholding_amount_lst = [col.text for col in soup.select('.datalist > tr > .col06')]\n",
    "shareholding_ratio_lst = [col.text for col in soup.select('.datalist > tr > .col07')]\n",
    "shareholding_change_ratio_lst = [col.text for col in soup.select('.datalist > tr > .col08')]"
   ]
  },
  {
   "cell_type": "code",
   "execution_count": 5,
   "metadata": {},
   "outputs": [
    {
     "data": {
      "text/html": [
       "<div>\n",
       "<style scoped>\n",
       "    .dataframe tbody tr th:only-of-type {\n",
       "        vertical-align: middle;\n",
       "    }\n",
       "\n",
       "    .dataframe tbody tr th {\n",
       "        vertical-align: top;\n",
       "    }\n",
       "\n",
       "    .dataframe thead th {\n",
       "        text-align: right;\n",
       "    }\n",
       "</style>\n",
       "<table border=\"1\" class=\"dataframe\">\n",
       "  <thead>\n",
       "    <tr style=\"text-align: right;\">\n",
       "      <th></th>\n",
       "      <th>股票名稱</th>\n",
       "      <th>持股(千股)</th>\n",
       "      <th>比例</th>\n",
       "      <th>增減</th>\n",
       "    </tr>\n",
       "  </thead>\n",
       "  <tbody>\n",
       "    <tr>\n",
       "      <th>0</th>\n",
       "      <td>台積電</td>\n",
       "      <td>109,806.00</td>\n",
       "      <td>48.04</td>\n",
       "      <td>-1.08%</td>\n",
       "    </tr>\n",
       "    <tr>\n",
       "      <th>1</th>\n",
       "      <td>聯發科</td>\n",
       "      <td>6,759.00</td>\n",
       "      <td>5.84</td>\n",
       "      <td>+0.84%</td>\n",
       "    </tr>\n",
       "    <tr>\n",
       "      <th>2</th>\n",
       "      <td>鴻海</td>\n",
       "      <td>54,621.00</td>\n",
       "      <td>4.62</td>\n",
       "      <td>-0.54%</td>\n",
       "    </tr>\n",
       "    <tr>\n",
       "      <th>3</th>\n",
       "      <td>聯電</td>\n",
       "      <td>53,212.00</td>\n",
       "      <td>2.20</td>\n",
       "      <td>+0.16%</td>\n",
       "    </tr>\n",
       "    <tr>\n",
       "      <th>4</th>\n",
       "      <td>台達電</td>\n",
       "      <td>9,883.00</td>\n",
       "      <td>2.18</td>\n",
       "      <td>+0.01%</td>\n",
       "    </tr>\n",
       "    <tr>\n",
       "      <th>5</th>\n",
       "      <td>台塑</td>\n",
       "      <td>22,253.00</td>\n",
       "      <td>1.72</td>\n",
       "      <td>0.00%</td>\n",
       "    </tr>\n",
       "    <tr>\n",
       "      <th>6</th>\n",
       "      <td>南亞</td>\n",
       "      <td>25,811.00</td>\n",
       "      <td>1.66</td>\n",
       "      <td>+0.09%</td>\n",
       "    </tr>\n",
       "    <tr>\n",
       "      <th>7</th>\n",
       "      <td>中鋼</td>\n",
       "      <td>56,532.00</td>\n",
       "      <td>1.62</td>\n",
       "      <td>+0.51%</td>\n",
       "    </tr>\n",
       "    <tr>\n",
       "      <th>8</th>\n",
       "      <td>富邦金</td>\n",
       "      <td>33,538.00</td>\n",
       "      <td>1.57</td>\n",
       "      <td>+0.11%</td>\n",
       "    </tr>\n",
       "    <tr>\n",
       "      <th>9</th>\n",
       "      <td>中華電</td>\n",
       "      <td>17,444.00</td>\n",
       "      <td>1.45</td>\n",
       "      <td>-0.03%</td>\n",
       "    </tr>\n",
       "  </tbody>\n",
       "</table>\n",
       "</div>"
      ],
      "text/plain": [
       "  股票名稱      持股(千股)     比例      增減\n",
       "0  台積電  109,806.00  48.04  -1.08%\n",
       "1  聯發科    6,759.00   5.84  +0.84%\n",
       "2   鴻海   54,621.00   4.62  -0.54%\n",
       "3   聯電   53,212.00   2.20  +0.16%\n",
       "4  台達電    9,883.00   2.18  +0.01%\n",
       "5   台塑   22,253.00   1.72   0.00%\n",
       "6   南亞   25,811.00   1.66  +0.09%\n",
       "7   中鋼   56,532.00   1.62  +0.51%\n",
       "8  富邦金   33,538.00   1.57  +0.11%\n",
       "9  中華電   17,444.00   1.45  -0.03%"
      ]
     },
     "execution_count": 5,
     "metadata": {},
     "output_type": "execute_result"
    }
   ],
   "source": [
    "# 將分別爬取的欄位包裝成 dataframe\n",
    "\n",
    "col_lsts = list(zip(stock_name_lst, shareholding_amount_lst, \\\n",
    "                    shareholding_ratio_lst, shareholding_change_ratio_lst))\n",
    "etfcomponent_df = pd.DataFrame(col_lsts, columns = col_name_lst) \n",
    "etfcomponent_df.head(10)"
   ]
  },
  {
   "cell_type": "code",
   "execution_count": null,
   "metadata": {},
   "outputs": [],
   "source": []
  }
 ],
 "metadata": {
  "kernelspec": {
   "display_name": "Python 3",
   "language": "python",
   "name": "python3"
  },
  "language_info": {
   "codemirror_mode": {
    "name": "ipython",
    "version": 3
   },
   "file_extension": ".py",
   "mimetype": "text/x-python",
   "name": "python",
   "nbconvert_exporter": "python",
   "pygments_lexer": "ipython3",
   "version": "3.6.5"
  }
 },
 "nbformat": 4,
 "nbformat_minor": 2
}
